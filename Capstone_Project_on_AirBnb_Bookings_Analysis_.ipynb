{
  "nbformat": 4,
  "nbformat_minor": 0,
  "metadata": {
    "colab": {
      "private_outputs": true,
      "provenance": [],
      "collapsed_sections": [
        "w6K7xa23Elo4",
        "1M8mcRywphqQ",
        "tgIPom80phqQ",
        "JMzcOPDDphqR",
        "x-EpHcCOp1ci",
        "X_VqEhTip1ck",
        "8zGJKyg5p1ck",
        "PVzmfK_Ep1ck",
        "n3dbpmDWp1ck",
        "ylSl6qgtp1ck",
        "ZWILFDl5p1ck",
        "M7G43BXep1ck",
        "Ag9LCva-p1cl",
        "E6MkPsBcp1cl",
        "2cELzS2fp1cl",
        "3MPXvC8up1cl",
        "NC_X3p0fY2L0",
        "UV0SzAkaZNRQ",
        "YPEH6qLeZNRQ",
        "EXh0U9oCveiU",
        "22aHeOlLveiV",
        "gIfDvo9L0UH2"
      ]
    },
    "kernelspec": {
      "name": "python3",
      "display_name": "Python 3"
    },
    "language_info": {
      "name": "python"
    }
  },
  "cells": [
    {
      "cell_type": "markdown",
      "source": [
        "# **Project Name**    -  AirBnb Bookings Analysis.\n",
        "\n"
      ],
      "metadata": {
        "id": "vncDsAP0Gaoa"
      }
    },
    {
      "cell_type": "markdown",
      "source": [
        "#### **Project Type**    - EDA\n",
        "#### **Contribution**    - Individual"
      ],
      "metadata": {
        "id": "beRrZCGUAJYm"
      }
    },
    {
      "cell_type": "markdown",
      "source": [
        "# **Project Summary -**"
      ],
      "metadata": {
        "id": "FJNUwmbgGyua"
      }
    },
    {
      "cell_type": "markdown",
      "source": [
        "###Since 2008, guests and hosts have used Airbnb to expand on traveling possibilities and present a more unique, personalized way of experiencing the world. Today, Airbnb became one of a kind service that is used and recognized by the whole world. Data analysis on millions of listings provided through Airbnb is a crucial factor for the company. These millions of listings generate a lot of data - data that can be analyzed and used for security, business decisions, understanding of customers' and providers' (hosts) behavior and performance on the platform, guiding marketing initiatives, implementation of innovative additional services and much more.\n",
        "###This dataset has around 49,000 observations in it with 16 columns and it is a mix between categorical and numeric values.\n",
        "\n"
      ],
      "metadata": {
        "id": "F6v_1wHtG2nS"
      }
    },
    {
      "cell_type": "markdown",
      "source": [
        "# **Business Objective**"
      ],
      "metadata": {
        "id": "PH-0ReGfmX4f"
      }
    },
    {
      "cell_type": "markdown",
      "source": [
        "##Explore and analyse the data to discover key understandings."
      ],
      "metadata": {
        "id": "PhDvGCAqmjP1"
      }
    },
    {
      "cell_type": "markdown",
      "source": [
        "# ***Let's Begin !***"
      ],
      "metadata": {
        "id": "O_i_v8NEhb9l"
      }
    },
    {
      "cell_type": "markdown",
      "source": [
        "## ***1. Knowing Data***"
      ],
      "metadata": {
        "id": "HhfV-JJviCcP"
      }
    },
    {
      "cell_type": "markdown",
      "source": [
        "### Importing Libraries"
      ],
      "metadata": {
        "id": "Y3lxredqlCYt"
      }
    },
    {
      "cell_type": "code",
      "source": [
        "# Importing Libraries\n",
        "import numpy as np\n",
        "import pandas as pd\n",
        "import matplotlib.pyplot as plt\n",
        "import seaborn as sns\n"
      ],
      "metadata": {
        "id": "M8Vqi-pPk-HR"
      },
      "execution_count": null,
      "outputs": []
    },
    {
      "cell_type": "markdown",
      "source": [
        "### Dataset Loading"
      ],
      "metadata": {
        "id": "3RnN4peoiCZX"
      }
    },
    {
      "cell_type": "code",
      "source": [
        "from google.colab import drive\n",
        "drive.mount('/content/drive')"
      ],
      "metadata": {
        "id": "vB93g38fX7xW"
      },
      "execution_count": null,
      "outputs": []
    },
    {
      "cell_type": "code",
      "source": [
        "# Loading Dataset\n",
        "df=pd.read_csv('/content/drive/MyDrive/DATA SCIENCE/Python All/csv/Copy of Airbnb NYC 2019.csv')"
      ],
      "metadata": {
        "id": "4CkvbW_SlZ_R"
      },
      "execution_count": null,
      "outputs": []
    },
    {
      "cell_type": "markdown",
      "source": [
        "### Dataset First View"
      ],
      "metadata": {
        "id": "x71ZqKXriCWQ"
      }
    },
    {
      "cell_type": "code",
      "source": [
        "df.head()"
      ],
      "metadata": {
        "id": "LWNFOSvLl09H"
      },
      "execution_count": null,
      "outputs": []
    },
    {
      "cell_type": "code",
      "source": [
        "df['availability_365'].mean()"
      ],
      "metadata": {
        "id": "yC8tvXM233lq"
      },
      "execution_count": null,
      "outputs": []
    },
    {
      "cell_type": "markdown",
      "source": [
        "### Dataset Rows & Columns count"
      ],
      "metadata": {
        "id": "7hBIi_osiCS2"
      }
    },
    {
      "cell_type": "code",
      "source": [
        "# Dataset Rows & Columns count\n",
        "df.shape"
      ],
      "metadata": {
        "id": "Kllu7SJgmLij"
      },
      "execution_count": null,
      "outputs": []
    },
    {
      "cell_type": "markdown",
      "source": [
        "### Dataset Information"
      ],
      "metadata": {
        "id": "JlHwYmJAmNHm"
      }
    },
    {
      "cell_type": "code",
      "source": [
        "# Dataset Info\n",
        "df.info()"
      ],
      "metadata": {
        "id": "e9hRXRi6meOf"
      },
      "execution_count": null,
      "outputs": []
    },
    {
      "cell_type": "markdown",
      "source": [
        "#### Duplicate Values"
      ],
      "metadata": {
        "id": "35m5QtbWiB9F"
      }
    },
    {
      "cell_type": "code",
      "source": [
        "# Dataset Duplicate Value Count\n",
        "df.duplicated().sum()"
      ],
      "metadata": {
        "id": "1sLdpKYkmox0"
      },
      "execution_count": null,
      "outputs": []
    },
    {
      "cell_type": "markdown",
      "source": [
        "This shows there is no any duplicated row in dataset."
      ],
      "metadata": {
        "id": "FMuNob8cZYv8"
      }
    },
    {
      "cell_type": "markdown",
      "source": [
        "#### Missing Values/Null Values"
      ],
      "metadata": {
        "id": "PoPl-ycgm1ru"
      }
    },
    {
      "cell_type": "code",
      "source": [
        "# Missing Values/Null Values Count\n",
        "df.isnull().sum()"
      ],
      "metadata": {
        "id": "GgHWkxvamxVg"
      },
      "execution_count": null,
      "outputs": []
    },
    {
      "cell_type": "markdown",
      "source": [
        "### How much I know about my dataset?"
      ],
      "metadata": {
        "id": "H0kj-8xxnORC"
      }
    },
    {
      "cell_type": "markdown",
      "source": [
        "This dataset consist of 48895 rows and total 16 columns. Column 'last_review' and 'reviews_per_month ' consist maximum number of Null values which are 10052 in number. This shows that customer avoid to offer there review or forgot to offer review. \n",
        "'Latitude' and 'Longitude' columns shows the geospatial location of specific property which is enlisted in Airbnb dataset. In this most amazing thing is that there is no any null values in these columns means using GPS tool we can reach to these properties."
      ],
      "metadata": {
        "id": "gfoNAAC-nUe_"
      }
    },
    {
      "cell_type": "markdown",
      "source": [
        "## ***2. Understanding Dataset Variables***"
      ],
      "metadata": {
        "id": "nA9Y7ga8ng1Z"
      }
    },
    {
      "cell_type": "code",
      "source": [
        "# Dataset Columns\n",
        "df.columns.tolist()"
      ],
      "metadata": {
        "id": "j7xfkqrt5Ag5"
      },
      "execution_count": null,
      "outputs": []
    },
    {
      "cell_type": "code",
      "source": [
        "# Dataset Describe\n",
        "df.describe()\n"
      ],
      "metadata": {
        "id": "DnOaZdaE5Q5t"
      },
      "execution_count": null,
      "outputs": []
    },
    {
      "cell_type": "markdown",
      "source": [
        "### Variables Description "
      ],
      "metadata": {
        "id": "PBTbrJXOngz2"
      }
    },
    {
      "cell_type": "markdown",
      "source": [
        "![Screenshot 2023-04-23 145903.png](data:image/png;base64,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)"
      ],
      "metadata": {
        "id": "aJV4KIxSnxay"
      }
    },
    {
      "cell_type": "markdown",
      "source": [
        "## 3. ***Data Wrangling***"
      ],
      "metadata": {
        "id": "dauF4eBmngu3"
      }
    },
    {
      "cell_type": "markdown",
      "source": [
        "### Data Wrangling Code"
      ],
      "metadata": {
        "id": "bKJF3rekwFvQ"
      }
    },
    {
      "cell_type": "markdown",
      "source": [
        "### 1. Number of rooms according to there types"
      ],
      "metadata": {
        "id": "K3QPWcxLdIrC"
      }
    },
    {
      "cell_type": "code",
      "source": [
        "room_types=df.groupby('room_type',as_index=False)['name'].count()\n",
        "room_types"
      ],
      "metadata": {
        "id": "wk-9a2fpoLcV"
      },
      "execution_count": null,
      "outputs": []
    },
    {
      "cell_type": "markdown",
      "source": [
        "### 2.Room type and there mean prices"
      ],
      "metadata": {
        "id": "PfKKTuuBdTvC"
      }
    },
    {
      "cell_type": "code",
      "source": [
        "df.groupby('room_type',as_index=False)['price'].mean()"
      ],
      "metadata": {
        "id": "kr5jOo3GdaoE"
      },
      "execution_count": null,
      "outputs": []
    },
    {
      "cell_type": "markdown",
      "source": [
        "###3. Number of rooms in different neighbourhood groups."
      ],
      "metadata": {
        "id": "wHGX8if7dndi"
      }
    },
    {
      "cell_type": "code",
      "source": [
        "df.groupby(['neighbourhood_group'],as_index=False)['name'].count()"
      ],
      "metadata": {
        "id": "6cEaeE78dnPa"
      },
      "execution_count": null,
      "outputs": []
    },
    {
      "cell_type": "markdown",
      "source": [
        "###4.Mean prices of all rooms in different neighbourhood groups."
      ],
      "metadata": {
        "id": "GW4KQdqXdxBi"
      }
    },
    {
      "cell_type": "code",
      "source": [
        "df.groupby(['neighbourhood_group'],as_index=False)['price'].mean()"
      ],
      "metadata": {
        "id": "NkM3SvR1dnHT"
      },
      "execution_count": null,
      "outputs": []
    },
    {
      "cell_type": "markdown",
      "source": [
        "###5.Top 10 Neighbourhood according to number of properties."
      ],
      "metadata": {
        "id": "yR-V6Rgtd7Qz"
      }
    },
    {
      "cell_type": "code",
      "source": [
        "w=df.groupby(['neighbourhood'],as_index=False).count()\n",
        "w=w.sort_values('id',ascending=False)\n",
        "w=w[['neighbourhood','id']].head(10)\n",
        "w"
      ],
      "metadata": {
        "id": "kg61p0XCdm8a"
      },
      "execution_count": null,
      "outputs": []
    },
    {
      "cell_type": "markdown",
      "source": [
        "###6. Top 10 expensive neighbourhood according to mean price."
      ],
      "metadata": {
        "id": "00gEWpbPeOl6"
      }
    },
    {
      "cell_type": "code",
      "source": [
        "pricewise_neighbourhood=df.groupby('neighbourhood',as_index=False)['price'].mean()\n",
        "\n",
        "top_10_expensive_neighbourhood=pricewise_neighbourhood.sort_values('price',ascending=False).head(10)\n",
        "top_10_expensive_neighbourhood\n"
      ],
      "metadata": {
        "id": "jkn8_iPxdmsy"
      },
      "execution_count": null,
      "outputs": []
    },
    {
      "cell_type": "markdown",
      "source": [
        "###Last 10 neighbourhood according to mean price"
      ],
      "metadata": {
        "id": "mXz-UbC9edta"
      }
    },
    {
      "cell_type": "code",
      "source": [
        "top_10_cheaper_neighbourhood= pricewise_neighbourhood.sort_values('price').head(10)\n",
        "top_10_cheaper_neighbourhood"
      ],
      "metadata": {
        "id": "oKIkc9juec7h"
      },
      "execution_count": null,
      "outputs": []
    },
    {
      "cell_type": "markdown",
      "source": [
        "###Number of different types of rooms in different neighbourhood_group."
      ],
      "metadata": {
        "id": "qxrqZtixer9b"
      }
    },
    {
      "cell_type": "code",
      "source": [
        "df.groupby(['neighbourhood_group','room_type'],as_index=False)['name'].count()"
      ],
      "metadata": {
        "id": "WjnQSTalec4w"
      },
      "execution_count": null,
      "outputs": []
    },
    {
      "cell_type": "markdown",
      "source": [
        "### Mean Price of different types of rooms in different neighbourhood groups."
      ],
      "metadata": {
        "id": "fSzF6E9Ue8Tz"
      }
    },
    {
      "cell_type": "code",
      "source": [
        "df.groupby(['neighbourhood_group','room_type'],as_index=False)['price'].mean()"
      ],
      "metadata": {
        "id": "5vUsuSWrec1x"
      },
      "execution_count": null,
      "outputs": []
    },
    {
      "cell_type": "markdown",
      "source": [
        "### Mean price for different room type."
      ],
      "metadata": {
        "id": "BPerhsJkfGhb"
      }
    },
    {
      "cell_type": "code",
      "source": [
        "df.groupby('room_type',as_index=False)['price'].mean()"
      ],
      "metadata": {
        "id": "PURESGlyeczC"
      },
      "execution_count": null,
      "outputs": []
    },
    {
      "cell_type": "markdown",
      "source": [
        "###Mean Room Avilability in different neighbourhood group"
      ],
      "metadata": {
        "id": "3Ekxc5EcfPax"
      }
    },
    {
      "cell_type": "code",
      "source": [
        "df.groupby(['neighbourhood_group','room_type'],as_index=False)['availability_365'].mean()    #['availability_365'].count()\n"
      ],
      "metadata": {
        "id": "ctYUapFOecwN"
      },
      "execution_count": null,
      "outputs": []
    },
    {
      "cell_type": "markdown",
      "source": [
        "### Room type Vs. Room Avilability"
      ],
      "metadata": {
        "id": "CCC5MHUqfcpi"
      }
    },
    {
      "cell_type": "code",
      "source": [
        "a=df.groupby('room_type',as_index=False)['availability_365'].mean()\n",
        "a"
      ],
      "metadata": {
        "id": "CrRVd2q9ectS"
      },
      "execution_count": null,
      "outputs": []
    },
    {
      "cell_type": "code",
      "source": [
        "plt.pie(a[\"availability_365\"],labels=a[\"room_type\"],autopct='%0.2f%%')"
      ],
      "metadata": {
        "id": "8vQ32NmJRG6S"
      },
      "execution_count": null,
      "outputs": []
    },
    {
      "cell_type": "markdown",
      "source": [
        "###Neighbourhood Groups vs Number of Host"
      ],
      "metadata": {
        "id": "Ps7LP3tEfn8L"
      }
    },
    {
      "cell_type": "code",
      "source": [
        "bg=df.groupby('neighbourhood_group',as_index=False)['host_id'].count()\n",
        "bg"
      ],
      "metadata": {
        "id": "2V7DpZ_PecqX"
      },
      "execution_count": null,
      "outputs": []
    },
    {
      "cell_type": "code",
      "source": [
        "a=sns.barplot(x='neighbourhood_group',y='host_id',data=bg)\n",
        "\n",
        "for i in a.containers:\n",
        "  a.bar_label(i)"
      ],
      "metadata": {
        "id": "r3m2PKU1UTvz"
      },
      "execution_count": null,
      "outputs": []
    },
    {
      "cell_type": "markdown",
      "source": [
        "### Top 15 monthly reviewed properties along with there neighbourhood and room type."
      ],
      "metadata": {
        "id": "sdiUVK4TgEP8"
      }
    },
    {
      "cell_type": "code",
      "source": [
        "df_review= df.sort_values('reviews_per_month',ascending=False)\n",
        "df_review=df_review[['neighbourhood_group','room_type','price','reviews_per_month','availability_365']]\n",
        "df_review=df_review[df_review['reviews_per_month']>0]\n",
        "df_review.head(15)\n"
      ],
      "metadata": {
        "id": "ORKrXX_recnM"
      },
      "execution_count": null,
      "outputs": []
    },
    {
      "cell_type": "code",
      "source": [
        "plt.figure(figsize=(10,7))\n",
        "ax=sns.barplot(x=df_review['neighbourhood_group'],y=df_review['availability_365'],hue=df_review['room_type'])\n",
        "\n",
        "for i in ax.containers:\n",
        "  ax.bar_label(i)"
      ],
      "metadata": {
        "id": "lVcVDyp8RQKK"
      },
      "execution_count": null,
      "outputs": []
    },
    {
      "cell_type": "markdown",
      "source": [
        "### Neighbourhood Group vs Count of reviewed properties"
      ],
      "metadata": {
        "id": "mqtevHq_garz"
      }
    },
    {
      "cell_type": "code",
      "source": [
        "df_review.groupby('neighbourhood_group',as_index=False)['reviews_per_month'].count()\n"
      ],
      "metadata": {
        "id": "Kibju2E5eci6"
      },
      "execution_count": null,
      "outputs": []
    },
    {
      "cell_type": "markdown",
      "source": [
        "###Top 10 host as per number of property"
      ],
      "metadata": {
        "id": "rE-jivC2ggZC"
      }
    },
    {
      "cell_type": "code",
      "source": [
        "top_10_host =df.groupby('host_id',as_index=False).count()\n",
        "top_10_host=top_10_host.sort_values('host_name',ascending=False).head(10)\n",
        "\n",
        "top_10_host=top_10_host[['host_id','id']]\n",
        "top_10_host"
      ],
      "metadata": {
        "id": "-Z8ENFowggMh"
      },
      "execution_count": null,
      "outputs": []
    },
    {
      "cell_type": "markdown",
      "source": [
        "###Top 5 highest rivewed hosts and there Neighbourhood Group"
      ],
      "metadata": {
        "id": "HPfHyhkPhJoS"
      }
    },
    {
      "cell_type": "code",
      "source": [
        "top_reviewed=df.sort_values('number_of_reviews',ascending=False)\n",
        "top_reviewed=top_reviewed[['host_name','neighbourhood_group','room_type','price','number_of_reviews']]"
      ],
      "metadata": {
        "id": "FS1twJS0hfgS"
      },
      "execution_count": null,
      "outputs": []
    },
    {
      "cell_type": "markdown",
      "source": [
        "###Number of different types of rooms in vaious Neighbourhood Groups "
      ],
      "metadata": {
        "id": "i5AwOSfIhk-q"
      }
    },
    {
      "cell_type": "code",
      "source": [
        "top_reviewed.groupby([\"neighbourhood_group\",'room_type'])['room_type'].count()"
      ],
      "metadata": {
        "id": "L74T3NDmhhL7"
      },
      "execution_count": null,
      "outputs": []
    },
    {
      "cell_type": "markdown",
      "source": [
        "###Top 5 highest rivewed hosts and there Neighbourhood Group"
      ],
      "metadata": {
        "id": "TXL8FJtBhoKl"
      }
    },
    {
      "cell_type": "code",
      "source": [
        "top_reviewed[['host_name','neighbourhood_group','number_of_reviews']].head(5)"
      ],
      "metadata": {
        "id": "8ouPYp5QggI-"
      },
      "execution_count": null,
      "outputs": []
    },
    {
      "cell_type": "markdown",
      "source": [
        "### For Top Reviewed properties average price for different room types."
      ],
      "metadata": {
        "id": "pCgsUORah3Fh"
      }
    },
    {
      "cell_type": "code",
      "source": [
        "top_reviewed.groupby(['room_type'])['price'].mean()"
      ],
      "metadata": {
        "id": "pnlo9dvSggEM"
      },
      "execution_count": null,
      "outputs": []
    },
    {
      "cell_type": "code",
      "source": [],
      "metadata": {
        "id": "wPhH7SbagftM"
      },
      "execution_count": null,
      "outputs": []
    },
    {
      "cell_type": "markdown",
      "source": [
        "## ***4. Data Vizualization: Understand the relationships between variables***"
      ],
      "metadata": {
        "id": "GF8Ens_Soomf"
      }
    },
    {
      "cell_type": "markdown",
      "source": [
        "### Chart - 1: Room Types Vs Count"
      ],
      "metadata": {
        "id": "0wOQAZs5pc--"
      }
    },
    {
      "cell_type": "code",
      "source": [
        "# Chart - 1 visualization code\n",
        "room_types=df.groupby('room_type',as_index=False)['name'].count()\n",
        "plt.pie(room_types[\"name\"],labels=room_types[\"room_type\"],autopct='%0.2f%%')\n",
        "plt.title(\"No. of Rooms in every type\",fontsize=15)\n",
        "\n",
        "\n",
        "plt.show()"
      ],
      "metadata": {
        "id": "7v_ESjsspbW7"
      },
      "execution_count": null,
      "outputs": []
    },
    {
      "cell_type": "markdown",
      "source": [
        "#### 1. Purpose behind choosing this chart:"
      ],
      "metadata": {
        "id": "K5QZ13OEpz2H"
      }
    },
    {
      "cell_type": "markdown",
      "source": [
        "Here I am using Pie plot for showing the relationship between various room types and there counts because pie plot provide better visulization in this context as compare to other charts. "
      ],
      "metadata": {
        "id": "XESiWehPqBRc"
      }
    },
    {
      "cell_type": "markdown",
      "source": [
        "#### 2. Insights from this visualization:"
      ],
      "metadata": {
        "id": "lQ7QKXXCp7Bj"
      }
    },
    {
      "cell_type": "markdown",
      "source": [
        "Here we can see that count of Entire home apartment is highest than other which is 51.97% of total. While the share of Shared room is very small which is just 2.37%. From this we can see that only few owners put Shared room type property on AirBnb network."
      ],
      "metadata": {
        "id": "C_j1G7yiqdRP"
      }
    },
    {
      "cell_type": "markdown",
      "source": [
        "### Chart - 2:Room type Vs Mean price."
      ],
      "metadata": {
        "id": "KSlN3yHqYklG"
      }
    },
    {
      "cell_type": "code",
      "source": [
        "# Chart - 2 visualization code\n",
        "a=df.groupby('room_type',as_index=False)['price'].mean()\n",
        "plt.figure(figsize=(7,4))\n",
        "ax=sns.barplot(x='room_type',y='price',data=a)\n",
        "\n",
        "for i in ax.containers:\n",
        "  ax.bar_label(i)\n",
        "  \n",
        "plt.title(\"Average Price of Room\",fontsize=20)\n",
        "plt.xlabel(\"Type of Room\",fontsize=15)\n",
        "plt.ylabel('Price',fontsize=15)\n",
        "\n",
        "plt.show()"
      ],
      "metadata": {
        "id": "R4YgtaqtYklH"
      },
      "execution_count": null,
      "outputs": []
    },
    {
      "cell_type": "markdown",
      "source": [
        "#### 1. Purpose behind choosing this chart:"
      ],
      "metadata": {
        "id": "t6dVpIINYklI"
      }
    },
    {
      "cell_type": "markdown",
      "source": [
        "Here the relation between room type vs mean price will be shown in proper way using Barplot only."
      ],
      "metadata": {
        "id": "3HJuAHtmqv_p"
      }
    },
    {
      "cell_type": "markdown",
      "source": [
        "#### 2. Insights from this visualization:"
      ],
      "metadata": {
        "id": "ijmpgYnKYklI"
      }
    },
    {
      "cell_type": "markdown",
      "source": [
        "From graph we can see that mean price of Entire home type property is highest while Shared room type is lowest. This might be due to area of Entire room is large and several other aminities also avilable in that as compare to others. "
      ],
      "metadata": {
        "id": "PSx9atu2YklI"
      }
    },
    {
      "cell_type": "markdown",
      "source": [
        "### Chart - 3:Neighbourhood group vs Room count."
      ],
      "metadata": {
        "id": "WZ35RUrJsUvj"
      }
    },
    {
      "cell_type": "code",
      "source": [
        "# Chart - 3 visualization code\n",
        "plt.figure(figsize=(7,4))\n",
        "m=df.groupby(['neighbourhood_group'],as_index=False)['name'].count()\n",
        "\n",
        "ac=sns.barplot(m, x=m['neighbourhood_group'],y=m['name'])\n",
        "\n",
        "plt.title(\"No. of rooms in Neighbourhood Group\",fontsize=15)\n",
        "plt.xlabel(\"Neighbourhood Group\",fontsize=15)\n",
        "plt.ylabel(\"No. of Rooms\",fontsize=15)\n",
        "\n",
        "for i in ac.containers:\n",
        "  ac.bar_label(i)\n",
        "\n",
        "plt.show()"
      ],
      "metadata": {
        "id": "7gC4nHV2sSkJ"
      },
      "execution_count": null,
      "outputs": []
    },
    {
      "cell_type": "markdown",
      "source": [
        "#### 1. Insights from this visualization:"
      ],
      "metadata": {
        "id": "kNQTIgsstKEJ"
      }
    },
    {
      "cell_type": "markdown",
      "source": [
        "The Manhattan neighbourhood group has maximum  number of properties which are 21652.While Staten Island is lowest with 373 properties."
      ],
      "metadata": {
        "id": "bpe9W4nctMIS"
      }
    },
    {
      "cell_type": "markdown",
      "source": [
        "#### Chart - 4:Neighbourhood Groups Vs Mean Prices."
      ],
      "metadata": {
        "id": "4Of9eVA-YrdM"
      }
    },
    {
      "cell_type": "code",
      "source": [
        "# Chart - 4 visualization code\n",
        "plt.figure(figsize=(7,4))\n",
        "p=df.groupby(['neighbourhood_group'],as_index=False)['price'].mean()\n",
        "bx=sns.barplot(x=p['neighbourhood_group'],y=p['price'])\n",
        "\n",
        "\n",
        "plt.title(\"Neighbourhood Groups Vs Mean Prices.\",fontsize=20)\n",
        "plt.xlabel(\"Neighbourhood Groups.\", fontsize=15)\n",
        "plt.ylabel(\"Price\",fontsize=15)\n",
        "\n",
        "for i in bx.containers:\n",
        "  bx.bar_label(i)\n",
        "\n",
        "plt.show()"
      ],
      "metadata": {
        "id": "irlUoxc8YrdO"
      },
      "execution_count": null,
      "outputs": []
    },
    {
      "cell_type": "markdown",
      "source": [
        "####Insights from visualization:"
      ],
      "metadata": {
        "id": "hBfqKn87xFrB"
      }
    },
    {
      "cell_type": "markdown",
      "source": [
        "The mean price of Manhatten neighbourhood group is highest ie 197 approx. while Bronx is cheapest one having mean price is 87 approx."
      ],
      "metadata": {
        "id": "o3xT5lVkxQKR"
      }
    },
    {
      "cell_type": "markdown",
      "source": [
        "#### Chart - 5: Top 10 Neighbourhood according to number of properties."
      ],
      "metadata": {
        "id": "bamQiAODYuh1"
      }
    },
    {
      "cell_type": "code",
      "source": [
        "# Chart - 5 visualization code\n",
        "w=df.groupby(['neighbourhood'],as_index=False).count()\n",
        "w=w.sort_values('id',ascending=False)\n",
        "w=w[['neighbourhood','id']].head(10)\n",
        "plt.figure(figsize=(7,4))\n",
        "m=w['neighbourhood']\n",
        "n=w['id']\n",
        "\n",
        "ax=sns.barplot(x='neighbourhood',y='id',data=w)\n",
        "\n",
        "plt.title(\"Top 10 Neighbourhood (countwise)\",fontsize=20)\n",
        "plt.xlabel('neighbourhood',fontsize=15)\n",
        "plt.ylabel('No. of room',fontsize=15)\n",
        "\n",
        "for i in ax.containers:\n",
        "  ax.bar_label(i)\n",
        "plt.xticks(rotation=90)\n",
        "\n",
        "plt.show()"
      ],
      "metadata": {
        "id": "TIJwrbroYuh3"
      },
      "execution_count": null,
      "outputs": []
    },
    {
      "cell_type": "markdown",
      "source": [
        "#### Insight:"
      ],
      "metadata": {
        "id": "VnafOa0TjK2O"
      }
    },
    {
      "cell_type": "markdown",
      "source": [
        "From above plot we can conclude that in 'Willumsberg' neighbourhood there are maximum number of properties."
      ],
      "metadata": {
        "id": "aAqQ1mKajOxE"
      }
    },
    {
      "cell_type": "markdown",
      "source": [
        "#### Chart - 6: Top 10 expensive neighbourhood according to mean price."
      ],
      "metadata": {
        "id": "OH-pJp9IphqM"
      }
    },
    {
      "cell_type": "code",
      "source": [
        "# Chart - 6 visualization code\n",
        "pricewise_neighbourhood=df.groupby('neighbourhood',as_index=False)['price'].mean()\n",
        "top_10_expensive_neighbourhood=pricewise_neighbourhood.sort_values('price',ascending=False).head(10)\n",
        "plt.figure(figsize=(7,4))\n",
        "a=top_10_expensive_neighbourhood['neighbourhood']\n",
        "b=top_10_expensive_neighbourhood['price']\n",
        "\n",
        "ax=sns.barplot(x='neighbourhood',y='price',data=top_10_expensive_neighbourhood)\n",
        "\n",
        "plt.title(\"Top 10 expensive Neighbourhood\",fontsize=20)\n",
        "plt.xlabel('neighbourhood',fontsize=15)\n",
        "plt.ylabel('Price',fontsize=15)\n",
        "\n",
        "for i in ax.containers:\n",
        "  ax.bar_label(i)\n",
        "\n",
        "plt.xticks(rotation=90)\n",
        "\n",
        "plt.show()"
      ],
      "metadata": {
        "id": "kuRf4wtuphqN"
      },
      "execution_count": null,
      "outputs": []
    },
    {
      "cell_type": "markdown",
      "source": [
        "##### 1. Insight:"
      ],
      "metadata": {
        "id": "bbFf2-_FphqN"
      }
    },
    {
      "cell_type": "markdown",
      "source": [
        "From above barplot we can see that the 'Fort Wadsworth' is the most expensive neighbourhood."
      ],
      "metadata": {
        "id": "loh7H2nzphqN"
      }
    },
    {
      "cell_type": "markdown",
      "source": [
        "#### Chart - 7: Neighbourhood_group Vs Room Type Vs Count"
      ],
      "metadata": {
        "id": "PIIx-8_IphqN"
      }
    },
    {
      "cell_type": "code",
      "source": [
        "a=df.groupby(['neighbourhood_group','room_type'],as_index=False).count()\n",
        "\n",
        "plt.figure(figsize=(7,4))\n",
        "ax=sns.barplot(x=a['neighbourhood_group'],y=a['id'],hue=a['room_type'])\n",
        "\n",
        "for i in ax.containers:\n",
        "  ax.bar_label(i)"
      ],
      "metadata": {
        "id": "wEmfiyQOmIR0"
      },
      "execution_count": null,
      "outputs": []
    },
    {
      "cell_type": "markdown",
      "source": [
        "#### Insight:"
      ],
      "metadata": {
        "id": "t27r6nlMphqO"
      }
    },
    {
      "cell_type": "markdown",
      "source": [
        "The Manhatten neighbourhood group has maximum number of 'Entire home' and 'Shared Room' type properties but in case of 'Private Room' the Brooklyn group is ahead of Manhatten."
      ],
      "metadata": {
        "id": "iv6ro40sphqO"
      }
    },
    {
      "cell_type": "markdown",
      "source": [
        "#### Chart - 8: Neighbourhood_group Vs Room Type Vs Mean Price"
      ],
      "metadata": {
        "id": "BZR9WyysphqO"
      }
    },
    {
      "cell_type": "code",
      "source": [
        "m=df.groupby(['neighbourhood_group','room_type'],as_index=False)['price'].mean()\n",
        "\n",
        "plt.figure(figsize=(7,6))\n",
        "ax=sns.lineplot(x=m['neighbourhood_group'],y=m['price'],hue=m['room_type'])\n",
        "\n",
        "for x, y, price in zip(m['neighbourhood_group'], m['price'], m['price']):\n",
        "    ax.text(x, y, f'{price:.2f}')"
      ],
      "metadata": {
        "id": "d6sKPAehtWwj"
      },
      "execution_count": null,
      "outputs": []
    },
    {
      "cell_type": "markdown",
      "source": [
        "#### 1. Purpose behind choosing this chart:"
      ],
      "metadata": {
        "id": "stmrs0OW1J8W"
      }
    },
    {
      "cell_type": "markdown",
      "source": [
        "The line plot gives better clarity and understanding in relationship between variables when there are more 1 factors. Here for understnding the relation between Neighbourhood group, Room type and Mean price line plot is very much effective."
      ],
      "metadata": {
        "id": "sgg9fHVD1KrD"
      }
    },
    {
      "cell_type": "markdown",
      "source": [
        "#### Insights:"
      ],
      "metadata": {
        "id": "jj7wYXLtphqO"
      }
    },
    {
      "cell_type": "markdown",
      "source": [
        "The Manhatten neighbourhood group is most expensive in all types of rooms. But there is as such no any uniformity in price difference between different types of rooms in these neighbourhood group. For example Brooklyn is second most expensive in 'Entire Room' type but in case of 'Private Room' the second most expensive is Queens."
      ],
      "metadata": {
        "id": "Ob8u6rCTphqO"
      }
    },
    {
      "cell_type": "markdown",
      "source": [
        "#### Chart - 9 :Top 10 host as per number of property."
      ],
      "metadata": {
        "id": "YJ55k-q6phqO"
      }
    },
    {
      "cell_type": "code",
      "source": [
        "# Chart - 9 visualization code\n",
        "x=(top_10_host['host_id'])\n",
        "\n",
        "plt.figure(figsize=(5,4))\n",
        "ax=sns.barplot(x=x.astype('str'),y=top_10_host['id'])\n",
        "\n",
        "for i in ax.containers:\n",
        "  ax.bar_label(i)\n",
        "\n",
        "plt.title(\"Host having max. number of property\",fontsize=20)\n",
        "plt.xlabel(\"Host ID\",fontsize=15)\n",
        "plt.ylabel(\"Count Property\" ,fontsize=15)\n",
        "\n",
        "plt.xticks(rotation=90)\n",
        "\n",
        "plt.show()"
      ],
      "metadata": {
        "id": "B2aS4O1ophqO"
      },
      "execution_count": null,
      "outputs": []
    },
    {
      "cell_type": "markdown",
      "source": [
        "#### Insight:"
      ],
      "metadata": {
        "id": "dM-4_0abr2tt"
      }
    },
    {
      "cell_type": "markdown",
      "source": [
        "Host having Host ID 219517861 has maximum 327 properties enlisted in the AirBnb NYC Network."
      ],
      "metadata": {
        "id": "ovFBl4Bir2f1"
      }
    },
    {
      "cell_type": "markdown",
      "source": [
        "#### Chart - 10: Distplot of Room_avilability_365"
      ],
      "metadata": {
        "id": "U2RJ9gkRphqQ"
      }
    },
    {
      "cell_type": "code",
      "source": [
        "a=df['availability_365'].replace(0,(df['availability_365'].median()))"
      ],
      "metadata": {
        "id": "CZcjYerwC1Ok"
      },
      "execution_count": null,
      "outputs": []
    },
    {
      "cell_type": "code",
      "source": [
        "# Chart - 10 visualization code\n",
        "sns.distplot(a)\n"
      ],
      "metadata": {
        "id": "GM7a4YP4phqQ"
      },
      "execution_count": null,
      "outputs": []
    },
    {
      "cell_type": "markdown",
      "source": [
        "Insight:"
      ],
      "metadata": {
        "id": "Dhoy62Tfx8qX"
      }
    },
    {
      "cell_type": "markdown",
      "source": [
        "From above plot we can see that there is one spike near 50, also if we see the distribution of room avilability from 0 to 100 then we can see that maximum desity is there only."
      ],
      "metadata": {
        "id": "nTJBKpFIxWkz"
      }
    },
    {
      "cell_type": "markdown",
      "source": [
        "#### Chart - 11: Boxplot for Price of rooms."
      ],
      "metadata": {
        "id": "EZf4THtSxIiO"
      }
    },
    {
      "cell_type": "code",
      "source": [
        "plt.figure(figsize=(20,5))\n",
        "sns.boxplot(x=df['price'],y=df['neighbourhood_group'])"
      ],
      "metadata": {
        "id": "Po1zyNJQ9Sa-"
      },
      "execution_count": null,
      "outputs": []
    },
    {
      "cell_type": "code",
      "source": [
        "df['price'].skew()"
      ],
      "metadata": {
        "id": "nFFlsXtc-1bU"
      },
      "execution_count": null,
      "outputs": []
    },
    {
      "cell_type": "code",
      "source": [
        "df.skew()"
      ],
      "metadata": {
        "id": "sukwnvyWCoYi"
      },
      "execution_count": null,
      "outputs": []
    },
    {
      "cell_type": "markdown",
      "source": [
        "1.Purpose behind chossing this graph:"
      ],
      "metadata": {
        "id": "1M8mcRywphqQ"
      }
    },
    {
      "cell_type": "markdown",
      "source": [
        "Box plot shows data spread. Also shows median of data along with Q1 and Q3 percentile . From this we can understand that how much data is skewd and what will be possible reason behind it."
      ],
      "metadata": {
        "id": "8agQvks0phqQ"
      }
    },
    {
      "cell_type": "markdown",
      "source": [
        "##### 2. Insights:"
      ],
      "metadata": {
        "id": "tgIPom80phqQ"
      }
    },
    {
      "cell_type": "markdown",
      "source": [
        "From the graph and skew statistics we can see that there is huge spread of data and there are so many outliers are exist in data due to which the graph looks like that. Here outliers exist may be due to 'Price' difference of room varies very much even in same Neighbourhood also.This may be due to 'Demand-Supply' method. Primarily it seems that some properties are very costly with respect to other properties of same type and of same neighbourhood. This might be due to aminities and services provided by the host and also due to the location of property where it is located. "
      ],
      "metadata": {
        "id": "Qp13pnNzphqQ"
      }
    },
    {
      "cell_type": "markdown",
      "source": [
        "##### 3. Impact of above insight on bussiness growth:"
      ],
      "metadata": {
        "id": "JMzcOPDDphqR"
      }
    },
    {
      "cell_type": "markdown",
      "source": [
        "From above boxplot it looks like that some locations are very much costly because of there market and business importance.Also if aminities and services are satifying the customers then little costly price of property won't matter a lot."
      ],
      "metadata": {
        "id": "R4Ka1PC2phqR"
      }
    },
    {
      "cell_type": "markdown",
      "source": [
        "#### Chart - 12: Scatter plot for Properties location using Latitude and Longitude."
      ],
      "metadata": {
        "id": "x-EpHcCOp1ci"
      }
    },
    {
      "cell_type": "code",
      "source": [
        "# Chart - 12 visualization code\n",
        "plt.figure(figsize=(12,8))\n",
        "sns.scatterplot(x=df.longitude,y=df.latitude,hue=df.neighbourhood_group)\n",
        "plt.show()"
      ],
      "metadata": {
        "id": "mAQTIvtqp1cj"
      },
      "execution_count": null,
      "outputs": []
    },
    {
      "cell_type": "markdown",
      "source": [
        "#### Chart - 13 - Correlation Heatmap"
      ],
      "metadata": {
        "id": "NC_X3p0fY2L0"
      }
    },
    {
      "cell_type": "code",
      "source": [
        "# Correlation Heatmap visualization code\n",
        "plt.figure(figsize=(8,8))\n",
        "sns.heatmap(df.corr(),annot=True)"
      ],
      "metadata": {
        "id": "xyC9zolEZNRQ"
      },
      "execution_count": null,
      "outputs": []
    },
    {
      "cell_type": "markdown",
      "source": [
        "This heatmap shows the correlation among varies feature of this dataset.From heatmap we can understand which feature impacting on our profit or any other factor."
      ],
      "metadata": {
        "id": "sHLv_ce_59qV"
      }
    },
    {
      "cell_type": "markdown",
      "source": [
        "#### Chart - 15 - Pair Plot "
      ],
      "metadata": {
        "id": "q29F0dvdveiT"
      }
    },
    {
      "cell_type": "code",
      "source": [
        "a=set(df.describe().columns)\n",
        "a"
      ],
      "metadata": {
        "id": "EDsUa4Sn5OAb"
      },
      "execution_count": null,
      "outputs": []
    },
    {
      "cell_type": "code",
      "source": [
        "a=set(df.describe().columns)\n",
        "b=a-{'host_id','id','latitude','longitude','calculated_host_listings_count'}\n",
        "\n",
        "new_df=df[b]\n",
        "new_df.head()"
      ],
      "metadata": {
        "id": "RI15I5pb4NfT"
      },
      "execution_count": null,
      "outputs": []
    },
    {
      "cell_type": "code",
      "source": [
        "sns.pairplot(new_df,size=3)"
      ],
      "metadata": {
        "id": "o8QmE4hh4yp2"
      },
      "execution_count": null,
      "outputs": []
    },
    {
      "cell_type": "markdown",
      "source": [
        "## **5. Solution to Business Objective**"
      ],
      "metadata": {
        "id": "JcMwzZxoAimU"
      }
    },
    {
      "cell_type": "markdown",
      "source": [
        "From above detailed Exploratory Data Analysis we can derive some following conclusion which will help us to achieve our bussiness goals:\n",
        "\n",
        "1.Based on the count and average price, it appears that 'Entire room/apartment' type rooms offer the maximum profit to the host.\n",
        "\n",
        "2.Manhattan and Brooklyn are the most in-demand and expensive neighborhoods, making them profitable choices for any host looking to invest.\n",
        "\n",
        "3.Manhattan has the highest number of 'Entire room/apartment' listings among other neighborhoods, while Brooklyn has the most 'Private rooms'. This suggests that the 'Entire room' category is the most in-demand in Manhattan.\n",
        "\n",
        "4.'Shared room' listings have low counts in all neighborhoods, and the average price for this category is the lowest among all room types. Thus, Shared rooms may not be very profitable.\n",
        "\n",
        "5.The Boxplot in Chart 11 shows the distribution of prices among neighborhood groups. The skewness of the Price column is 11.20, indicating a high degree of asymmetry in the data. There are many outliers in the data, suggesting that the prices of certain listings are significantly higher than the mean prices of similar listings in the same neighborhood. This could be due to differences in amenities, services, and location."
      ],
      "metadata": {
        "id": "8G2x9gOozGDZ"
      }
    },
    {
      "cell_type": "code",
      "source": [],
      "metadata": {
        "id": "QgSPao7Mxzh_"
      },
      "execution_count": null,
      "outputs": []
    }
  ]
}